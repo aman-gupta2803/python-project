{
  "nbformat": 4,
  "nbformat_minor": 0,
  "metadata": {
    "colab": {
      "provenance": []
    },
    "kernelspec": {
      "name": "python3",
      "display_name": "Python 3"
    },
    "language_info": {
      "name": "python"
    }
  },
  "cells": [
    {
      "cell_type": "code",
      "source": [],
      "metadata": {
        "id": "e6zMOWOsqaMl"
      },
      "execution_count": null,
      "outputs": []
    },
    {
      "cell_type": "markdown",
      "source": [
        "Q1: You are working in a bank, and you have been given two lists of the employees who worked in 2021. Employees’ names in list 1 are Ramesh, Suresh, Mahesh, Ali, Jacob, and Saritha. List 2 contains the names of Ali, Mukesh, Mahesh, Jacob, Sai, and Sarita. Please write a program that helps to identify people who are common in both lists. Please do not use any in-built function.\n"
      ],
      "metadata": {
        "id": "keTbmLc1q2uW"
      }
    },
    {
      "cell_type": "code",
      "source": [
        "list1 = ['Ramesh', 'Suresh', 'Mahesh', 'Ali', 'Jacob', 'Saritha']\n",
        "list2 = ['Ali', 'Mukesh', 'Mahesh', 'Jacob', 'Sai', 'Sarita']\n",
        "\n",
        "common_names = set()\n",
        "\n",
        "#iterate on list1\n",
        "for i in range(0,len(list1)):\n",
        "  #iterate on list2\n",
        "  for j in range(0,len(list2)):\n",
        "    if list1[i] == list2[j]:\n",
        "      #common name found. Add in the list\n",
        "      common_names.add(list1[i])\n",
        "\n",
        "print(\"Common names in the 2 given lists are: \", common_names)"
      ],
      "metadata": {
        "colab": {
          "base_uri": "https://localhost:8080/"
        },
        "id": "8wgr0RRhq-gK",
        "outputId": "228a7ceb-8d92-4b32-b280-644259368411"
      },
      "execution_count": null,
      "outputs": [
        {
          "output_type": "stream",
          "name": "stdout",
          "text": [
            "Common names in the 2 given lists are:  {'Mahesh', 'Ali', 'Jacob'}\n"
          ]
        }
      ]
    },
    {
      "cell_type": "markdown",
      "source": [
        "Q2: While entering data, someone entered a few names as a common string “Ramesh Suresh Mohit”. Please write a program which separates all the names and converts them into a list. Once converted into a list, please write a program that adds their age.\n",
        "\n",
        "Ramesh: 25\n",
        "\n",
        "Suresh: 22\n",
        "\n",
        "Mohit: 26"
      ],
      "metadata": {
        "id": "NQJ4v9SgrGT-"
      }
    },
    {
      "cell_type": "code",
      "source": [
        "n=int(input())\n",
        "sum_of_age=0\n",
        "for i in range(0,n):\n",
        "  Name, age =input().split()\n",
        "  sum_of_age +=int(age)\n",
        "\n",
        "print(sum_of_age)"
      ],
      "metadata": {
        "colab": {
          "base_uri": "https://localhost:8080/"
        },
        "id": "M5tarIOV2kdV",
        "outputId": "714f2c83-0942-43e8-b150-c8ed0a4f80b8"
      },
      "execution_count": null,
      "outputs": [
        {
          "output_type": "stream",
          "name": "stdout",
          "text": [
            "3\n",
            "aa 12\n",
            "ab 23\n",
            "dd 34\n",
            "69\n"
          ]
        }
      ]
    },
    {
      "cell_type": "markdown",
      "source": [
        "Q3: You are working in a medical store. A patient came to your medical store and asked to buy 2 strips of paracetamol, 3 strips of azithromycin, and 5 strips of Vitamin C. One strip of paracetamol costs Rs 35, one strip of azithromycin costs Rs 49, and one strip of vitamin c costs Rs. 33. Patient gave you Rs 2000. Please tell us what is the total cost of each medicine, the total cost of all medicine, and how much money you refunded to the patient."
      ],
      "metadata": {
        "id": "JQWm3hFcsxjr"
      }
    },
    {
      "cell_type": "code",
      "source": [
        "med = ['paracetamol', 'azithromycin', 'Vitamin C']\n",
        "cost = [35, 49, 33]\n",
        "dict1 = dict(zip(med, cost))\n",
        "\n",
        "#taking inputs. Could just assign variables(a,b,c,inflow) directly too\n",
        "a = int(input('How many strips of paracetamol'))\n",
        "b = int(input('How many strips of azithromycin'))\n",
        "c = int(input('How many strips of Vitamin C'))\n",
        "inflow = int(input('How much money paid?'))\n",
        "\n",
        "cost = int(a*dict1['paracetamol']) + int(b*dict1['azithromycin']) + int(c*dict1['Vitamin C'])\n",
        "\n",
        "print('Money to be refunded to the patient is Rs', int(inflow) - int(cost))"
      ],
      "metadata": {
        "colab": {
          "base_uri": "https://localhost:8080/"
        },
        "id": "XxEGHk4hsR9L",
        "outputId": "f2154058-38a9-47b8-d7ab-18a6d3b2824c"
      },
      "execution_count": null,
      "outputs": [
        {
          "output_type": "stream",
          "name": "stdout",
          "text": [
            "How many strips of paracetamol2\n",
            "How many strips of azithromycin3\n",
            "How many strips of Vitamin C5\n",
            "How much money paid?2000\n",
            "Money to be refunded to the patient is Rs 1618\n"
          ]
        }
      ]
    },
    {
      "cell_type": "markdown",
      "source": [
        "Q4: Accept a sentence as input and find the number of vowels in it. Assume that the sentence has no punctuation marks. For example, I am learning python contains 6 vowels. This function should be applicable for all other different sentences."
      ],
      "metadata": {
        "id": "DDPxVESzttNr"
      }
    },
    {
      "cell_type": "code",
      "source": [
        "vowels = ['a', 'e', 'i', 'o', 'u', 'y']\n",
        "\n",
        "sentence = input('Enter Sentence')\n",
        "\n",
        "j = 0\n",
        "\n",
        "for i in range(0, len(sentence)):\n",
        "  if sentence[i] in vowels:\n",
        "    j = j + 1\n",
        "\n",
        "print('The sentence contains', j, 'vowels')"
      ],
      "metadata": {
        "colab": {
          "base_uri": "https://localhost:8080/"
        },
        "id": "P4fWTPd-tcHu",
        "outputId": "5b6bb503-0534-4382-9549-d9a146507f29"
      },
      "execution_count": null,
      "outputs": [
        {
          "output_type": "stream",
          "name": "stdout",
          "text": [
            "Enter SentenceI am learning python\n",
            "The sentence contains 6 vowels\n"
          ]
        }
      ]
    },
    {
      "cell_type": "markdown",
      "source": [
        "Q5: You have been appointed by the election commission to create a website. Your first task is to work on a program which tells candidates if they are eligible for voting or not. If they are eligible, your output should be ‘Congrats! You are eligible’; otherwise, it should tell that you have to return after X number of years. The eligibility criteria for voting is 18 years.\n",
        "\n",
        "For example, If someone is 18 or above, your output should be ‘Congrats! You are eligible’. If someone’s age is 15 years, it should print output as ‘return after 3 years’.\n"
      ],
      "metadata": {
        "id": "kPAUWFYdulcT"
      }
    },
    {
      "cell_type": "code",
      "source": [
        "age = int(input('Enter age in years'))\n",
        "\n",
        "if age >= 18:\n",
        "  print('Congrats! You are eligible')\n",
        "elif age < 18 and age >= 0:\n",
        "  print('return after', 18 - age, 'years')\n",
        "else:\n",
        "  print('invalid age')"
      ],
      "metadata": {
        "colab": {
          "base_uri": "https://localhost:8080/"
        },
        "id": "deBXB2eiub3l",
        "outputId": "b59e88e7-b15f-422b-9ed2-a3786d421253"
      },
      "execution_count": null,
      "outputs": [
        {
          "output_type": "stream",
          "name": "stdout",
          "text": [
            "Enter age in years15\n",
            "return after 3 years\n"
          ]
        }
      ]
    },
    {
      "cell_type": "markdown",
      "source": [
        "Q6: Given a list of integers, find the cumulative sum of the elements of the list and store them in another list.\n",
        "\n",
        "A = [1, 2, 3, 4, 5]\n",
        "\n",
        "Output:\n",
        "\n",
        "[1, 3, 6, 10, 15]"
      ],
      "metadata": {
        "id": "uCnd9kPcvAPL"
      }
    },
    {
      "cell_type": "code",
      "source": [
        "#input string\n",
        "a = [1,2,3,4,5]\n",
        "\n",
        "#output string\n",
        "b = list()\n",
        "\n",
        "c = 0\n",
        "\n",
        "for i in range(0, len(a)):\n",
        "  if i == 0:\n",
        "    b.append(a[i])\n",
        "  else:\n",
        "    for j in range(0, i+1):\n",
        "      c = c + a[j]\n",
        "    b.append(c)\n",
        "    c = 0\n",
        "\n",
        "print(b)"
      ],
      "metadata": {
        "colab": {
          "base_uri": "https://localhost:8080/"
        },
        "id": "7H4JH4Tku83r",
        "outputId": "e0e86a3e-3480-4828-8462-6ec1ad402814"
      },
      "execution_count": null,
      "outputs": [
        {
          "output_type": "stream",
          "name": "stdout",
          "text": [
            "[1, 3, 6, 10, 15]\n"
          ]
        }
      ]
    },
    {
      "cell_type": "markdown",
      "source": [
        "Q7:\n",
        "\n",
        "WAP to encode a message entered by user as per below conditions:\n",
        "\n",
        "for every word in the sentence,\n",
        "\n",
        "If the word starts with a vowel, encode it as first and last letter of the word.\n",
        "\n",
        "If the word starts with a consonant, remove all vowels from it.\n",
        "\n",
        "Ensure the case insensitive comparisions/checks are performed.\n",
        "\n",
        "Please enter your text:The quick brown fox used to sleep inside this box\n",
        "\n",
        "Encoded Msg: Th qck brwn fx ud t slp ie ths bx"
      ],
      "metadata": {
        "id": "Q6IXi4BOv6J0"
      }
    },
    {
      "cell_type": "code",
      "source": [
        "vowels = ['a', 'e', 'i', 'o', 'u', 'y', 'A', 'E', 'I', 'O', 'U', 'Y']\n",
        "\n",
        "sentence = input('Please enter your text:')\n",
        "\n",
        "words = sentence.split()\n",
        "\n",
        "sentence_wap_coded_list = list()\n",
        "\n",
        "for i in range(0, len(words)):\n",
        "  if words[i][0] in vowels:\n",
        "    sentence_wap_coded_list.append(words[i][0] + words[i][-1])\n",
        "  else:\n",
        "    a = str()\n",
        "    for j in range(0, len(words[i])):\n",
        "      if words[i][j] not in vowels:\n",
        "        a = a + words[i][j]\n",
        "    sentence_wap_coded_list.append(a)\n",
        "\n",
        "sentence_wap_coded = str()\n",
        "\n",
        "for i in range(0, len(sentence_wap_coded_list)):\n",
        "  if i != len(sentence_wap_coded_list) - 1:\n",
        "    sentence_wap_coded += (sentence_wap_coded_list[i] + ' ')\n",
        "  else:\n",
        "    sentence_wap_coded += sentence_wap_coded_list[i]\n",
        "print('Encoded Msg: ',sentence_wap_coded)"
      ],
      "metadata": {
        "colab": {
          "base_uri": "https://localhost:8080/"
        },
        "id": "VeSYFXFMyrlH",
        "outputId": "a6dbb5cf-46d9-44f3-b452-28d4558ffc71"
      },
      "execution_count": null,
      "outputs": [
        {
          "output_type": "stream",
          "name": "stdout",
          "text": [
            "Please enter your text:The quick brown fox used to sleep inside this box\n",
            "Encoded Msg:  Th qck brwn fx ud t slp ie ths bx\n"
          ]
        }
      ]
    },
    {
      "cell_type": "markdown",
      "source": [
        "Q8:\n",
        "\n",
        "Write a program to implement run length encoding of a string\n",
        "\n",
        "RLE:Consecutive repetition of a character has to be replaced with the count of occurances and the character.\n",
        "\n",
        "Enter your string :aabbbccdddae\n",
        "\n",
        "Encoded: 2a3b2c3d1a1e\n",
        "\n"
      ],
      "metadata": {
        "id": "ElDswL7q068i"
      }
    },
    {
      "cell_type": "code",
      "source": [
        "sentence = input('Enter your string:')\n",
        "\n",
        "j = 1\n",
        "sentence_coded = str()\n",
        "\n",
        "for i in range(0, len(sentence)):\n",
        "  if i != len(sentence) - 1:\n",
        "    if sentence[i] == sentence[i + 1]:\n",
        "      j += 1\n",
        "    else:\n",
        "      sentence_coded += str(j) + sentence[i]\n",
        "      j = 1\n",
        "  else:\n",
        "    sentence_coded += str(j) + sentence[i]\n",
        "\n",
        "print(sentence_coded)"
      ],
      "metadata": {
        "colab": {
          "base_uri": "https://localhost:8080/"
        },
        "id": "VMoe1LxX02to",
        "outputId": "e2510f89-58c6-4a4c-f509-33cfd683547c"
      },
      "execution_count": null,
      "outputs": [
        {
          "output_type": "stream",
          "name": "stdout",
          "text": [
            "Enter your string:aabbbccdddae\n",
            "2a3b2c3d1a1e\n"
          ]
        }
      ]
    },
    {
      "cell_type": "code",
      "source": [],
      "metadata": {
        "id": "-lgq7-yB2R79"
      },
      "execution_count": null,
      "outputs": []
    }
  ]
}